{
  "nbformat": 4,
  "nbformat_minor": 0,
  "metadata": {
    "colab": {
      "provenance": [],
      "toc_visible": true,
      "authorship_tag": "ABX9TyNz+dWkSPYqwVRE6ZrPH9mR",
      "include_colab_link": true
    },
    "kernelspec": {
      "name": "python3",
      "display_name": "Python 3"
    },
    "language_info": {
      "name": "python"
    }
  },
  "cells": [
    {
      "cell_type": "markdown",
      "metadata": {
        "id": "view-in-github",
        "colab_type": "text"
      },
      "source": [
        "<a href=\"https://colab.research.google.com/github/aylinvalencia19/1/blob/main/Taller_00_Clase_15%7C08.ipynb\" target=\"_parent\"><img src=\"https://colab.research.google.com/assets/colab-badge.svg\" alt=\"Open In Colab\"/></a>"
      ]
    },
    {
      "cell_type": "markdown",
      "source": [
        "# **# TITULO**\n",
        "Ejemplos de clase 2"
      ],
      "metadata": {
        "id": "UOKNhF5XyMuN"
      }
    },
    {
      "cell_type": "code",
      "source": [
        "print(\"Hola, mundo\")\n",
        "\n",
        "\n",
        "()"
      ],
      "metadata": {
        "colab": {
          "base_uri": "https://localhost:8080/"
        },
        "id": "0YlFIEuXyw2v",
        "outputId": "73c9db0b-106b-40bb-a9f4-3e855f58f3a6"
      },
      "execution_count": 2,
      "outputs": [
        {
          "output_type": "stream",
          "name": "stdout",
          "text": [
            "Hola, mundo\n"
          ]
        }
      ]
    },
    {
      "cell_type": "code",
      "source": [],
      "metadata": {
        "id": "AJuS0cZoy9zo"
      },
      "execution_count": null,
      "outputs": []
    }
  ]
}